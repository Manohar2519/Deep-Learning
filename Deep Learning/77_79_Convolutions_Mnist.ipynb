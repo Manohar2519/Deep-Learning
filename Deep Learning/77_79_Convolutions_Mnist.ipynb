{
 "cells": [
  {
   "cell_type": "markdown",
   "metadata": {},
   "source": [
    "### CNN\n",
    "\n",
    "#### MNIST Dataset\n",
    "\n",
    "- This dataset contains about 60,000 training images and 10,000 testing images taken from USA, this dataset is the most common dataset used in ML / DL  , since this is mostly used earlier we need to import this from csv or something but now its loaded in tensorflow we can read it directly from tensorflow.."
   ]
  },
  {
   "cell_type": "code",
   "execution_count": 3,
   "metadata": {},
   "outputs": [],
   "source": [
    "import tensorflow\n",
    "import warnings\n",
    "warnings.filterwarnings(\"ignore\")\n"
   ]
  },
  {
   "cell_type": "markdown",
   "metadata": {},
   "source": [
    "- tensorflow datasets return two tuples first tuple will contain X_train,y_train, second tuple will contain X_test,y_test, and while loading you can give the split percentage for the test set.\n",
    "- once you load the data as  mnist ,(X_train,y_train), (X_test,y_test) = mnist.load_data(%)\n",
    "\n"
   ]
  },
  {
   "cell_type": "code",
   "execution_count": 15,
   "metadata": {},
   "outputs": [],
   "source": [
    "#How to import the dataset?\n",
    "\n",
    "from tensorflow.keras.datasets import mnist\n",
    "\n",
    "(X_train,y_train) , (X_test,y_test) = mnist.load_data()\n",
    "\n"
   ]
  },
  {
   "cell_type": "code",
   "execution_count": 16,
   "metadata": {},
   "outputs": [
    {
     "name": "stdout",
     "output_type": "stream",
     "text": [
      "(60000, 28, 28)\n",
      "(60000,)\n",
      "(10000, 28, 28)\n",
      "(10000,)\n"
     ]
    }
   ],
   "source": [
    "print(X_train.shape)\n",
    "print(y_train.shape)\n",
    "print(X_test.shape)\n",
    "print(y_test.shape)"
   ]
  },
  {
   "cell_type": "code",
   "execution_count": 17,
   "metadata": {},
   "outputs": [
    {
     "name": "stdout",
     "output_type": "stream",
     "text": [
      "Label is:5\n"
     ]
    },
    {
     "data": {
      "text/plain": [
       "<matplotlib.image.AxesImage at 0x7fe3ba1fb5b0>"
      ]
     },
     "execution_count": 17,
     "metadata": {},
     "output_type": "execute_result"
    },
    {
     "data": {
      "image/png": "[encoded data removed]",
      "text/plain": [
       "<Figure size 432x288 with 1 Axes>"
      ]
     },
     "metadata": {
      "needs_background": "light"
     },
     "output_type": "display_data"
    }
   ],
   "source": [
    "import matplotlib.pyplot as plt\n",
    "print(\"Label is:{}\".format(y_train[2000]))\n",
    "plt.imshow(X_train[2000],cmap='gray')"
   ]
  },
  {
   "cell_type": "markdown",
   "metadata": {},
   "source": [
    "- Sequential API in your tensorflow / keras takes the image input in this format , what is the format ? num_examples, height, width , channels\n",
    "\n",
    "- 60000 X 28 X 28 , since these are gray scale images, what are the number of channels here?\n",
    "\n",
    "- 1 is the channel.\n",
    "\n",
    "- 60000 X 28 X 28 X 1 \n"
   ]
  },
  {
   "cell_type": "code",
   "execution_count": 18,
   "metadata": {},
   "outputs": [],
   "source": [
    "#Reshape\n",
    "X_train = X_train.reshape(X_train.shape[0],28,28,1)\n",
    "X_test = X_test.reshape(X_test.shape[0],28,28,1)"
   ]
  },
  {
   "cell_type": "code",
   "execution_count": 19,
   "metadata": {},
   "outputs": [
    {
     "name": "stdout",
     "output_type": "stream",
     "text": [
      "(60000, 28, 28, 1)\n"
     ]
    }
   ],
   "source": [
    "print(X_train.shape)"
   ]
  },
  {
   "cell_type": "code",
   "execution_count": 20,
   "metadata": {},
   "outputs": [
    {
     "name": "stdout",
     "output_type": "stream",
     "text": [
      "(10000, 28, 28, 1)\n"
     ]
    }
   ],
   "source": [
    "print(X_test.shape)"
   ]
  },
  {
   "cell_type": "code",
   "execution_count": 21,
   "metadata": {},
   "outputs": [
    {
     "name": "stdout",
     "output_type": "stream",
     "text": [
      "Max value of X_train 255\n",
      "Min value of X_train 0\n"
     ]
    }
   ],
   "source": [
    "print(\"Max value of X_train\",X_train.max())\n",
    "print(\"Min value of X_train\",X_train.min())"
   ]
  },
  {
   "cell_type": "markdown",
   "metadata": {},
   "source": [
    "#### Normalize the data:\n",
    "\n",
    "- Its always better to normalize the data in NN\n",
    "- RGB has max of 255 lets divide by 255"
   ]
  },
  {
   "cell_type": "code",
   "execution_count": 22,
   "metadata": {},
   "outputs": [],
   "source": [
    "X_train = X_train.astype('float32')\n",
    "X_test = X_test.astype('float32')\n",
    "\n",
    "X_train/= 255\n",
    "X_test/= 255\n"
   ]
  },
  {
   "cell_type": "code",
   "execution_count": 23,
   "metadata": {},
   "outputs": [
    {
     "name": "stdout",
     "output_type": "stream",
     "text": [
      "Max value of X_train 1.0\n"
     ]
    }
   ],
   "source": [
    "print(\"Max value of X_train\",X_train.max())"
   ]
  },
  {
   "cell_type": "code",
   "execution_count": 24,
   "metadata": {},
   "outputs": [
    {
     "name": "stdout",
     "output_type": "stream",
     "text": [
      "Min value of X_train 0.0\n"
     ]
    }
   ],
   "source": [
    "print(\"Min value of X_train\",X_train.min())"
   ]
  },
  {
   "cell_type": "code",
   "execution_count": 25,
   "metadata": {},
   "outputs": [],
   "source": [
    "\n",
    "# from tensorflow.keras.datasets import mnist\n",
    "\n",
    "# (X_train_new,y_train_new) , (X_test_new,y_test_new) = mnist.load_data()\n",
    "# from sklearn.preprocessing import StandardScaler\n",
    "# sc = StandardScaler()\n",
    "# X_train_new= X_train_new.flatten()\n",
    "# X_train_new = sc.fit_transform(X_train_new.reshape(-1, 1))\n",
    "# X_train_new = X_train_new.reshape(60000,28,28)"
   ]
  },
  {
   "cell_type": "markdown",
   "metadata": {},
   "source": [
    "#### How many input neurons:  784 \n",
    "#### how many ouptput neurons: 10 \n",
    "####  what is the loss function: categorical_crossentropy\n",
    "\n",
    "- We need to transform our target and peform one hot encoding\n"
   ]
  },
  {
   "cell_type": "code",
   "execution_count": 37,
   "metadata": {},
   "outputs": [],
   "source": [
    "from tensorflow.keras.utils import to_categorical\n",
    "y_train = to_categorical(y_train,num_classes=10)\n",
    "y_test = to_categorical(y_test,num_classes=10)"
   ]
  },
  {
   "cell_type": "code",
   "execution_count": 38,
   "metadata": {},
   "outputs": [
    {
     "name": "stdout",
     "output_type": "stream",
     "text": [
      "(60000, 10)\n"
     ]
    }
   ],
   "source": [
    "print(y_train.shape)"
   ]
  },
  {
   "cell_type": "markdown",
   "metadata": {},
   "source": [
    "#### Lets create a Sequential Model\n",
    "\n",
    "- Define a Seq Model \n",
    "- Add Conv , 32 filters, 3X3 , input shape is 28 X 28 X 1\n",
    "- Add Conv , 32 filters, 3X3 \n",
    "- flatten the data\n",
    "- Dense\n",
    "- Dense\n",
    "\n"
   ]
  },
  {
   "cell_type": "markdown",
   "metadata": {},
   "source": [
    " - Your weight matrix should be given as W = i/p X o/p X H X W \n",
    " \n",
    " - Kernel = 3 -->    i/p = 1 X 32 X 3 X 3 \n",
    " \n",
    " - 32 X 32 X 3 X 3 \n",
    " "
   ]
  },
  {
   "cell_type": "code",
   "execution_count": 40,
   "metadata": {},
   "outputs": [],
   "source": [
    "from tensorflow.keras.models import Sequential\n",
    "from tensorflow.keras.layers import Conv2D , MaxPool2D , Dense ,Flatten\n",
    "\n",
    "model = Sequential()\n",
    "model.add(Conv2D(filters=32,kernel_size=3,activation='relu',input_shape=(28,28,1)))\n",
    "model.add(Conv2D(filters=32,kernel_size=3,activation='relu'))\n",
    "model.add(Flatten())\n",
    "model.add(Dense(128,activation='relu'))\n",
    "model.add(Dense(10,activation = 'softmax'))"
   ]
  },
  {
   "cell_type": "code",
   "execution_count": 41,
   "metadata": {},
   "outputs": [],
   "source": [
    "model.compile(loss='categorical_crossentropy',metrics=['accuracy'],optimizer='adam')"
   ]
  },
  {
   "cell_type": "code",
   "execution_count": 42,
   "metadata": {},
   "outputs": [
    {
     "name": "stdout",
     "output_type": "stream",
     "text": [
      "Epoch 1/10\n",
      "1313/1313 [==============================] - 49s 37ms/step - loss: 0.1453 - accuracy: 0.9560 - val_loss: 0.0779 - val_accuracy: 0.9768\n",
      "Epoch 2/10\n",
      "1313/1313 [==============================] - 49s 37ms/step - loss: 0.0436 - accuracy: 0.9866 - val_loss: 0.0706 - val_accuracy: 0.9803\n",
      "Epoch 3/10\n",
      "1313/1313 [==============================] - 49s 37ms/step - loss: 0.0235 - accuracy: 0.9917 - val_loss: 0.0624 - val_accuracy: 0.9829\n",
      "Epoch 4/10\n",
      "1313/1313 [==============================] - 49s 37ms/step - loss: 0.0152 - accuracy: 0.9952 - val_loss: 0.0765 - val_accuracy: 0.9811\n",
      "Epoch 5/10\n",
      "1313/1313 [==============================] - 49s 37ms/step - loss: 0.0111 - accuracy: 0.9963 - val_loss: 0.0763 - val_accuracy: 0.9845\n",
      "Epoch 6/10\n",
      "1313/1313 [==============================] - 49s 37ms/step - loss: 0.0093 - accuracy: 0.9968 - val_loss: 0.0838 - val_accuracy: 0.9832\n",
      "Epoch 7/10\n",
      "1313/1313 [==============================] - 49s 37ms/step - loss: 0.0094 - accuracy: 0.9970 - val_loss: 0.0877 - val_accuracy: 0.9808\n",
      "Epoch 8/10\n",
      "1313/1313 [==============================] - 50s 38ms/step - loss: 0.0054 - accuracy: 0.9982 - val_loss: 0.0812 - val_accuracy: 0.9853\n",
      "Epoch 9/10\n",
      "1313/1313 [==============================] - 51s 39ms/step - loss: 0.0048 - accuracy: 0.9984 - val_loss: 0.0996 - val_accuracy: 0.9830\n",
      "Epoch 10/10\n",
      "1313/1313 [==============================] - 51s 39ms/step - loss: 0.0050 - accuracy: 0.9982 - val_loss: 0.0988 - val_accuracy: 0.9834\n"
     ]
    },
    {
     "data": {
      "text/plain": [
       "<tensorflow.python.keras.callbacks.History at 0x7fe32d933d00>"
      ]
     },
     "execution_count": 42,
     "metadata": {},
     "output_type": "execute_result"
    }
   ],
   "source": [
    "model.fit(X_train,y_train,batch_size=32,epochs=10,validation_split=0.3)"
   ]
  },
  {
   "cell_type": "code",
   "execution_count": 43,
   "metadata": {},
   "outputs": [
    {
     "name": "stdout",
     "output_type": "stream",
     "text": [
      "Model: \"sequential_1\"\n",
      "_________________________________________________________________\n",
      "Layer (type)                 Output Shape              Param #   \n",
      "=================================================================\n",
      "conv2d_2 (Conv2D)            (None, 26, 26, 32)        320       \n",
      "_________________________________________________________________\n",
      "conv2d_3 (Conv2D)            (None, 24, 24, 32)        9248      \n",
      "_________________________________________________________________\n",
      "flatten_1 (Flatten)          (None, 18432)             0         \n",
      "_________________________________________________________________\n",
      "dense_1 (Dense)              (None, 128)               2359424   \n",
      "_________________________________________________________________\n",
      "dense_2 (Dense)              (None, 10)                1290      \n",
      "=================================================================\n",
      "Total params: 2,370,282\n",
      "Trainable params: 2,370,282\n",
      "Non-trainable params: 0\n",
      "_________________________________________________________________\n",
      "None\n"
     ]
    }
   ],
   "source": [
    "print(model.summary())"
   ]
  },
  {
   "cell_type": "code",
   "execution_count": 44,
   "metadata": {},
   "outputs": [
    {
     "data": {
      "text/plain": [
       "[<tensorflow.python.keras.layers.convolutional.Conv2D at 0x7fe32da90940>,\n",
       " <tensorflow.python.keras.layers.convolutional.Conv2D at 0x7fe32d83a8e0>,\n",
       " <tensorflow.python.keras.layers.core.Flatten at 0x7fe32da83fa0>,\n",
       " <tensorflow.python.keras.layers.core.Dense at 0x7fe32d462b20>,\n",
       " <tensorflow.python.keras.layers.core.Dense at 0x7fe32d462100>]"
      ]
     },
     "execution_count": 44,
     "metadata": {},
     "output_type": "execute_result"
    }
   ],
   "source": [
    "model.layers"
   ]
  },
  {
   "cell_type": "code",
   "execution_count": 46,
   "metadata": {},
   "outputs": [
    {
     "data": {
      "text/plain": [
       "[<tf.Variable 'conv2d_2/kernel:0' shape=(3, 3, 1, 32) dtype=float32, numpy=\n",
       " array([[[[ 8.08866248e-02, -3.36105898e-02, -8.93675238e-02,\n",
       "           -3.92460749e-02, -2.26580873e-02, -1.50674552e-01,\n",
       "           -2.20660090e-01,  3.64143997e-02,  1.48871928e-01,\n",
       "            9.07190591e-02,  1.48062333e-01, -1.44357175e-01,\n",
       "            3.77803594e-02, -3.12534600e-01, -3.29831302e-01,\n",
       "           -9.62747037e-02,  1.34688288e-01, -1.36582673e-01,\n",
       "            5.19097410e-02, -2.75155097e-01, -1.91639084e-02,\n",
       "           -4.08454351e-02,  2.01842621e-01,  8.57015997e-02,\n",
       "           -1.06847651e-01,  8.33127052e-02,  5.12151234e-02,\n",
       "           -1.98334396e-01,  1.81135401e-01,  2.06326112e-01,\n",
       "           -2.45759204e-01, -1.04691811e-01]],\n",
       " \n",
       "         [[-4.56604473e-02,  2.94592008e-02,  4.67531122e-02,\n",
       "            9.72509012e-02, -7.50147402e-02, -4.36952502e-01,\n",
       "            3.77871562e-03,  3.30632068e-02,  1.12048186e-01,\n",
       "           -9.32051465e-02, -1.26466647e-01, -7.45469332e-02,\n",
       "           -2.07541175e-02, -1.37757853e-01,  3.42385061e-02,\n",
       "           -2.62798876e-01, -1.28806144e-01,  1.15271239e-02,\n",
       "           -1.36950478e-01, -5.77793755e-02,  4.48459461e-02,\n",
       "           -7.91785121e-02,  2.26547927e-01,  2.44113669e-01,\n",
       "           -8.69713649e-02,  7.68308714e-02,  9.34081078e-02,\n",
       "           -3.90036821e-01,  1.66707888e-01,  2.53123045e-02,\n",
       "            1.72973037e-01, -8.56178999e-02]],\n",
       " \n",
       "         [[-2.52208918e-01,  3.42943162e-01, -1.84220135e-01,\n",
       "           -4.55311462e-02, -1.52574122e-01, -1.56167448e-01,\n",
       "            1.12983733e-01, -1.46758974e-01, -7.43214414e-02,\n",
       "           -1.06958300e-01,  5.29866815e-02,  9.78397727e-02,\n",
       "           -1.00033112e-01,  1.90494582e-01,  7.01114303e-04,\n",
       "           -2.18782827e-01, -9.83050908e-04,  3.98126543e-02,\n",
       "            6.39050528e-02,  8.15488026e-02,  1.75057441e-01,\n",
       "           -1.27770916e-01,  5.78939542e-02,  1.45780474e-01,\n",
       "           -6.85111657e-02, -3.24753493e-01, -6.55569583e-02,\n",
       "           -2.96021760e-01, -9.53511000e-02, -1.81434587e-01,\n",
       "            8.42576176e-02,  8.12323838e-02]]],\n",
       " \n",
       " \n",
       "        [[[ 9.67844296e-03, -2.97346059e-03,  2.54435241e-01,\n",
       "            1.58852994e-01,  2.72330064e-02, -8.76670033e-02,\n",
       "           -1.37509510e-01, -2.62675643e-01,  1.03632927e-01,\n",
       "            2.32215226e-02, -5.03532104e-02, -7.04669282e-02,\n",
       "           -2.08889204e-03, -7.00195357e-02, -2.64730100e-02,\n",
       "            2.53862232e-01,  2.74139166e-01, -2.19139293e-01,\n",
       "           -2.85986096e-01,  4.14844453e-02, -6.28285483e-02,\n",
       "            3.10275942e-01,  1.01842508e-01, -3.15682106e-02,\n",
       "            9.26232338e-02, -1.30095422e-01, -4.78707999e-03,\n",
       "           -5.86059466e-02,  2.29273569e-02,  3.02545130e-01,\n",
       "           -1.19607896e-01, -7.57315084e-02]],\n",
       " \n",
       "         [[ 2.01462179e-01, -2.94633098e-02,  5.83162792e-02,\n",
       "           -8.65069926e-02,  1.85127661e-01,  4.22916971e-02,\n",
       "            2.28638053e-01,  1.07571356e-01, -5.74271157e-02,\n",
       "            1.29991407e-02,  9.40316543e-02,  2.24624336e-01,\n",
       "           -1.26167582e-02,  9.98983085e-02,  1.92580566e-01,\n",
       "            1.16481483e-02, -1.40016094e-01,  5.57787381e-02,\n",
       "            9.37610343e-02, -1.55840730e-02, -1.74197420e-01,\n",
       "            1.80768967e-01, -4.63605486e-02,  3.20330225e-02,\n",
       "            1.79224640e-01, -1.06523104e-01,  1.11109272e-01,\n",
       "           -1.01910112e-02,  1.51093811e-01,  3.96776386e-02,\n",
       "            1.21689864e-01,  1.53560296e-01]],\n",
       " \n",
       "         [[ 1.41454861e-01,  1.01839736e-01, -3.35787654e-01,\n",
       "           -1.42157525e-01, -1.74968705e-01,  4.19935659e-02,\n",
       "            3.23415190e-01,  2.07502991e-01, -8.63130540e-02,\n",
       "            1.36180922e-01, -2.89464593e-01,  1.84540823e-01,\n",
       "            1.82268158e-01,  8.53400379e-02,  9.20841657e-03,\n",
       "            1.08010501e-01, -2.54549801e-01,  2.37924233e-02,\n",
       "            1.74126327e-01,  3.14862356e-02,  3.36593650e-02,\n",
       "           -1.50637366e-02, -4.69300710e-03,  6.45582899e-02,\n",
       "            1.41288340e-01,  6.45180121e-02, -6.23038709e-02,\n",
       "            1.20979156e-02, -1.79407354e-02, -2.87360400e-01,\n",
       "           -9.16677620e-03, -4.39578928e-02]]],\n",
       " \n",
       " \n",
       "        [[[ 1.35106206e-01, -1.55656621e-01,  2.93010861e-01,\n",
       "           -6.00856356e-02, -2.40853280e-01,  1.11262277e-01,\n",
       "           -8.24222565e-02, -2.25066736e-01, -1.69147730e-01,\n",
       "           -1.82087019e-01,  1.79847777e-01, -1.06162809e-01,\n",
       "            1.72120836e-02,  1.71547711e-01,  1.32411912e-01,\n",
       "           -1.49299735e-02,  1.57526076e-01,  1.77103318e-02,\n",
       "           -1.03334254e-02,  1.73525929e-01, -2.62582153e-01,\n",
       "            1.48826435e-01, -1.23397589e-01, -3.50418389e-01,\n",
       "            1.03706494e-01,  1.79355070e-01, -1.00985229e-01,\n",
       "            1.90970868e-01,  6.19607605e-02,  3.59536447e-02,\n",
       "           -5.69804348e-02, -1.06994182e-01]],\n",
       " \n",
       "         [[ 1.42281011e-01, -4.06134605e-01, -1.24420095e-02,\n",
       "            1.25037462e-01,  1.32126324e-02,  9.55802575e-02,\n",
       "            4.19908203e-03,  9.34971869e-02,  1.05544455e-01,\n",
       "           -5.86748011e-02, -1.39284834e-01, -6.22165985e-02,\n",
       "           -2.01101542e-01,  6.17054626e-02,  5.35605395e-05,\n",
       "            1.32587910e-01, -5.43314405e-02, -2.92079240e-01,\n",
       "           -4.88636270e-02, -5.36549501e-02,  1.29763670e-02,\n",
       "           -1.53603613e-01, -1.93961710e-01, -2.88742721e-01,\n",
       "           -1.33685410e-01,  2.18247145e-01, -1.15592189e-01,\n",
       "            3.03732514e-01, -1.89054266e-01, -2.49475405e-01,\n",
       "           -1.05164060e-02, -5.05867526e-02]],\n",
       " \n",
       "         [[ 2.32879352e-02, -1.85349718e-01,  1.77303459e-02,\n",
       "            4.49031442e-02,  1.32972136e-01,  3.45159411e-01,\n",
       "           -3.16819102e-02,  1.28258571e-01,  1.75805077e-01,\n",
       "            9.62218940e-02, -6.91443607e-02, -2.85889450e-02,\n",
       "           -1.74303472e-01,  5.79026304e-02, -3.05082090e-02,\n",
       "           -2.14992929e-02,  3.78361754e-02,  9.04211253e-02,\n",
       "            3.45173441e-02, -1.26229584e-01,  9.54663604e-02,\n",
       "            6.33927286e-02, -2.94824243e-01, -7.02820346e-02,\n",
       "           -2.07558334e-01, -1.25955120e-01,  8.60016569e-02,\n",
       "            1.64924011e-01, -2.81112880e-01, -2.90310562e-01,\n",
       "           -1.25071779e-01,  1.95579201e-01]]]], dtype=float32)>,\n",
       " <tf.Variable 'conv2d_2/bias:0' shape=(32,) dtype=float32, numpy=\n",
       " array([-0.08994912, -0.01922429, -0.01845875, -0.11388146, -0.04473574,\n",
       "         0.052141  , -0.05534551, -0.02420584, -0.09579378, -0.07474136,\n",
       "        -0.0288268 , -0.02124571, -0.08697616, -0.06459531, -0.05813069,\n",
       "        -0.01177262, -0.06556806, -0.06028481, -0.04921785, -0.0224962 ,\n",
       "        -0.02337027, -0.03796282, -0.0155079 , -0.01991727, -0.02213562,\n",
       "        -0.0689228 , -0.13826008,  0.03702419, -0.0411507 ,  0.06501158,\n",
       "        -0.01457628, -0.07644031], dtype=float32)>]"
      ]
     },
     "execution_count": 46,
     "metadata": {},
     "output_type": "execute_result"
    }
   ],
   "source": [
    "model.layers[0].weights"
   ]
  },
  {
   "cell_type": "code",
   "execution_count": 47,
   "metadata": {},
   "outputs": [
    {
     "data": {
      "text/plain": [
       "[<tf.Variable 'conv2d_3/kernel:0' shape=(3, 3, 32, 32) dtype=float32, numpy=\n",
       " array([[[[ 0.03608446, -0.20423774, -0.13092019, ...,  0.03889749,\n",
       "           -0.05610034, -0.02655639],\n",
       "          [-0.3533137 , -0.13742732,  0.17865098, ...,  0.14113842,\n",
       "            0.07278328,  0.07776035],\n",
       "          [ 0.12818441, -0.16401462, -0.09214406, ..., -0.22605935,\n",
       "           -0.0154698 , -0.28733444],\n",
       "          ...,\n",
       "          [ 0.06467353, -0.22321166, -0.25023395, ...,  0.00387079,\n",
       "           -0.00904368, -0.21319047],\n",
       "          [-0.00534313,  0.01499248, -0.08401068, ..., -0.04589044,\n",
       "            0.05677158,  0.0787985 ],\n",
       "          [-0.10275189,  0.08663409, -0.03695235, ...,  0.00994253,\n",
       "            0.2249761 ,  0.07095925]],\n",
       " \n",
       "         [[-0.00770668, -0.09174878, -0.19668435, ..., -0.00302738,\n",
       "            0.09568397, -0.09646508],\n",
       "          [-0.38017222, -0.35831046, -0.07106886, ...,  0.13976151,\n",
       "           -0.2412061 , -0.15560792],\n",
       "          [ 0.04438256, -0.14439541, -0.01466318, ...,  0.00998558,\n",
       "            0.24750178, -0.09236418],\n",
       "          ...,\n",
       "          [ 0.1427351 ,  0.12496197,  0.1504237 , ..., -0.0012882 ,\n",
       "           -0.07182605, -0.07196694],\n",
       "          [-0.31710127,  0.18431792,  0.09715091, ..., -0.09709341,\n",
       "            0.2424895 ,  0.0125241 ],\n",
       "          [-0.21137758,  0.09051768, -0.05391746, ...,  0.11763028,\n",
       "           -0.07156104,  0.07197971]],\n",
       " \n",
       "         [[-0.02723587, -0.02113571, -0.0655979 , ...,  0.10473848,\n",
       "           -0.06235133,  0.02709528],\n",
       "          [-0.41090176, -0.20871206, -0.11240661, ...,  0.08799043,\n",
       "            0.1185929 , -0.11550614],\n",
       "          [-0.07152271, -0.49283403,  0.134402  , ...,  0.00315612,\n",
       "            0.03993457,  0.00064297],\n",
       "          ...,\n",
       "          [-0.15591979, -0.4160211 ,  0.04205466, ...,  0.05223637,\n",
       "           -0.00552217, -0.1683    ],\n",
       "          [-0.1012711 , -0.11625724, -0.09105793, ...,  0.06859823,\n",
       "            0.05910676, -0.08952507],\n",
       "          [ 0.05388372,  0.01072001, -0.10117115, ..., -0.00707484,\n",
       "           -0.19142547,  0.03837004]]],\n",
       " \n",
       " \n",
       "        [[[-0.10227293, -0.04967273, -0.25978094, ..., -0.17543851,\n",
       "            0.05140186, -0.00173872],\n",
       "          [-0.26359788, -0.08380596,  0.08979446, ...,  0.21023536,\n",
       "            0.18733017, -0.07056557],\n",
       "          [ 0.03072369, -0.1584703 , -0.08899812, ..., -0.46919918,\n",
       "            0.08561403, -0.0106043 ],\n",
       "          ...,\n",
       "          [ 0.23197904,  0.06597769, -0.13303891, ..., -0.18402667,\n",
       "           -0.36415628, -0.05774748],\n",
       "          [-0.18297327, -0.02691025, -0.14426695, ...,  0.13480985,\n",
       "            0.03632603, -0.02082206],\n",
       "          [-0.24846917,  0.0357569 ,  0.03087606, ..., -0.19570403,\n",
       "           -0.01448227, -0.05449396]],\n",
       " \n",
       "         [[-0.26414487,  0.00508021, -0.1458376 , ..., -0.01977131,\n",
       "            0.20851687, -0.1096559 ],\n",
       "          [-0.27230856, -0.300602  , -0.21520102, ...,  0.07186203,\n",
       "           -0.1283262 , -0.24329178],\n",
       "          [-0.25908276, -0.33676985, -0.04786839, ..., -0.27718168,\n",
       "            0.07026087, -0.08851475],\n",
       "          ...,\n",
       "          [ 0.15303107,  0.04082765, -0.01238543, ...,  0.04905836,\n",
       "           -0.2450616 , -0.10246591],\n",
       "          [-0.30558544,  0.04514163,  0.16860136, ...,  0.03769978,\n",
       "            0.06337903, -0.08891048],\n",
       "          [-0.07973666, -0.17354429, -0.08684841, ..., -0.09339044,\n",
       "           -0.11992546, -0.01748308]],\n",
       " \n",
       "         [[ 0.07492438, -0.05481016, -0.08568539, ..., -0.30761558,\n",
       "            0.06983428, -0.10271532],\n",
       "          [-0.3111932 , -0.17878106, -0.17191151, ...,  0.04614758,\n",
       "            0.14956534, -0.09211939],\n",
       "          [-0.20657137, -0.46818307,  0.14868204, ..., -0.22224726,\n",
       "           -0.1460533 , -0.06019916],\n",
       "          ...,\n",
       "          [-0.2186722 , -0.42335942,  0.08420635, ...,  0.24740495,\n",
       "           -0.52686405, -0.32023725],\n",
       "          [ 0.10899478, -0.07400393,  0.00654161, ..., -0.06229175,\n",
       "           -0.06737091, -0.12391374],\n",
       "          [ 0.06760409,  0.04629932, -0.12156523, ..., -0.10451687,\n",
       "           -0.16656902, -0.04007193]]],\n",
       " \n",
       " \n",
       "        [[[-0.34816372, -0.02416356, -0.25110176, ..., -0.09926256,\n",
       "           -0.00091942, -0.09951459],\n",
       "          [-0.43184304, -0.26071933,  0.10354564, ...,  0.19072732,\n",
       "            0.28230885, -0.1529651 ],\n",
       "          [-0.18409939, -0.18493229, -0.08957519, ..., -0.13800111,\n",
       "           -0.15672384, -0.05578988],\n",
       "          ...,\n",
       "          [ 0.02219181,  0.08347408, -0.15337363, ..., -0.11525732,\n",
       "           -0.30758867,  0.15326309],\n",
       "          [-0.33612663,  0.09151933, -0.14769873, ...,  0.1865973 ,\n",
       "            0.12424864, -0.11676576],\n",
       "          [-0.1566403 ,  0.04138174,  0.01939796, ..., -0.12857871,\n",
       "            0.05385353,  0.0512586 ]],\n",
       " \n",
       "         [[-0.19142637, -0.08687622, -0.01338784, ..., -0.27472883,\n",
       "            0.21663247, -0.02492538],\n",
       "          [-0.23741828, -0.43992102, -0.03517493, ..., -0.0891996 ,\n",
       "            0.1794334 ,  0.05683378],\n",
       "          [-0.31133753, -0.15935023, -0.06136693, ..., -0.14667355,\n",
       "           -0.01374397, -0.01702669],\n",
       "          ...,\n",
       "          [-0.03012782, -0.24893895, -0.009389  , ..., -0.16577385,\n",
       "           -0.37511954, -0.02768405],\n",
       "          [-0.10336196,  0.02178435,  0.06730975, ..., -0.1334878 ,\n",
       "           -0.00119058, -0.00638189],\n",
       "          [-0.07200779,  0.05488309, -0.05103655, ..., -0.13154846,\n",
       "           -0.17296171,  0.11526431]],\n",
       " \n",
       "         [[ 0.08360377,  0.09988309,  0.03567892, ..., -0.08256306,\n",
       "            0.02010519,  0.05963774],\n",
       "          [-0.03809959, -0.33100078, -0.11378161, ..., -0.20327815,\n",
       "            0.0881056 , -0.2520883 ],\n",
       "          [-0.15329167, -0.29891706,  0.06001256, ..., -0.1855161 ,\n",
       "           -0.11883634, -0.16194598],\n",
       "          ...,\n",
       "          [-0.21856555, -0.2727502 ,  0.04594355, ...,  0.12973706,\n",
       "           -0.5297658 , -0.26239336],\n",
       "          [ 0.02739559, -0.05463546, -0.1068757 , ..., -0.1411089 ,\n",
       "           -0.01128693, -0.09281585],\n",
       "          [ 0.14636141,  0.01063844, -0.13221534, ...,  0.09027115,\n",
       "           -0.10534471, -0.11936108]]]], dtype=float32)>,\n",
       " <tf.Variable 'conv2d_3/bias:0' shape=(32,) dtype=float32, numpy=\n",
       " array([-0.03854583, -0.02446679, -0.07205427, -0.02237346,  0.02742398,\n",
       "         0.01043195, -0.02995148, -0.05916727, -0.00782272, -0.02449608,\n",
       "        -0.0124366 , -0.03413015, -0.09392528, -0.03724429, -0.02822487,\n",
       "        -0.02011833, -0.0016639 , -0.07921045, -0.00294059,  0.03561768,\n",
       "         0.0202473 , -0.03278469, -0.03720747, -0.07571441,  0.01495312,\n",
       "        -0.02197878, -0.00745618,  0.01757113, -0.01973427,  0.00486537,\n",
       "        -0.01360949, -0.0330058 ], dtype=float32)>]"
      ]
     },
     "execution_count": 47,
     "metadata": {},
     "output_type": "execute_result"
    }
   ],
   "source": [
    "model.layers[1].weights"
   ]
  },
  {
   "cell_type": "code",
   "execution_count": 49,
   "metadata": {},
   "outputs": [],
   "source": [
    "from tensorflow.keras.models import Sequential\n",
    "from tensorflow.keras.layers import Conv2D , MaxPooling2D , Dense ,Flatten, Dropout\n",
    "\n",
    "model = Sequential()\n",
    "model.add(Conv2D(filters=32,kernel_size=3,activation='relu',input_shape=(28,28,1)))\n",
    "model.add(Conv2D(filters=32,kernel_size=3,activation='relu'))\n",
    "model.add(MaxPooling2D(pool_size=(2,2)))\n",
    "model.add(Dropout(0.2))\n",
    "model.add(Flatten())\n",
    "model.add(Dense(128,activation='relu'))\n",
    "model.add(Dense(10,activation = 'softmax'))"
   ]
  },
  {
   "cell_type": "code",
   "execution_count": 51,
   "metadata": {},
   "outputs": [
    {
     "name": "stdout",
     "output_type": "stream",
     "text": [
      "Model: \"sequential_3\"\n",
      "_________________________________________________________________\n",
      "Layer (type)                 Output Shape              Param #   \n",
      "=================================================================\n",
      "conv2d_6 (Conv2D)            (None, 26, 26, 32)        320       \n",
      "_________________________________________________________________\n",
      "conv2d_7 (Conv2D)            (None, 24, 24, 32)        9248      \n",
      "_________________________________________________________________\n",
      "max_pooling2d_1 (MaxPooling2 (None, 12, 12, 32)        0         \n",
      "_________________________________________________________________\n",
      "dropout (Dropout)            (None, 12, 12, 32)        0         \n",
      "_________________________________________________________________\n",
      "flatten_2 (Flatten)          (None, 4608)              0         \n",
      "_________________________________________________________________\n",
      "dense_3 (Dense)              (None, 128)               589952    \n",
      "_________________________________________________________________\n",
      "dense_4 (Dense)              (None, 10)                1290      \n",
      "=================================================================\n",
      "Total params: 600,810\n",
      "Trainable params: 600,810\n",
      "Non-trainable params: 0\n",
      "_________________________________________________________________\n",
      "None\n"
     ]
    }
   ],
   "source": [
    "print(model.summary())"
   ]
  },
  {
   "cell_type": "code",
   "execution_count": 52,
   "metadata": {},
   "outputs": [],
   "source": [
    "model.compile(loss='categorical_crossentropy',metrics=['accuracy'],optimizer='adam')"
   ]
  },
  {
   "cell_type": "code",
   "execution_count": 53,
   "metadata": {},
   "outputs": [
    {
     "name": "stdout",
     "output_type": "stream",
     "text": [
      "Epoch 1/10\n",
      "1313/1313 [==============================] - 44s 33ms/step - loss: 0.1500 - accuracy: 0.9549 - val_loss: 0.0689 - val_accuracy: 0.9800\n",
      "Epoch 2/10\n",
      "1313/1313 [==============================] - 43s 33ms/step - loss: 0.0494 - accuracy: 0.9844 - val_loss: 0.0516 - val_accuracy: 0.9839\n",
      "Epoch 3/10\n",
      "1313/1313 [==============================] - 42s 32ms/step - loss: 0.0339 - accuracy: 0.9893 - val_loss: 0.0498 - val_accuracy: 0.9859\n",
      "Epoch 4/10\n",
      "1313/1313 [==============================] - 41s 31ms/step - loss: 0.0241 - accuracy: 0.9923 - val_loss: 0.0463 - val_accuracy: 0.9869\n",
      "Epoch 5/10\n",
      "1313/1313 [==============================] - 43s 33ms/step - loss: 0.0175 - accuracy: 0.9940 - val_loss: 0.0667 - val_accuracy: 0.9828\n",
      "Epoch 6/10\n",
      "1313/1313 [==============================] - 45s 34ms/step - loss: 0.0144 - accuracy: 0.9950 - val_loss: 0.0445 - val_accuracy: 0.9881\n",
      "Epoch 7/10\n",
      "1313/1313 [==============================] - 46s 35ms/step - loss: 0.0114 - accuracy: 0.9963 - val_loss: 0.0497 - val_accuracy: 0.9883\n",
      "Epoch 8/10\n",
      "1313/1313 [==============================] - 47s 36ms/step - loss: 0.0103 - accuracy: 0.9964 - val_loss: 0.0489 - val_accuracy: 0.9884\n",
      "Epoch 9/10\n",
      "1313/1313 [==============================] - 48s 36ms/step - loss: 0.0101 - accuracy: 0.9962 - val_loss: 0.0622 - val_accuracy: 0.9868\n",
      "Epoch 10/10\n",
      "1313/1313 [==============================] - 48s 37ms/step - loss: 0.0064 - accuracy: 0.9979 - val_loss: 0.0743 - val_accuracy: 0.9856\n"
     ]
    },
    {
     "data": {
      "text/plain": [
       "<tensorflow.python.keras.callbacks.History at 0x7fe32c0979a0>"
      ]
     },
     "execution_count": 53,
     "metadata": {},
     "output_type": "execute_result"
    }
   ],
   "source": [
    "model.fit(X_train,y_train,batch_size=32,epochs=10,validation_split=0.3)"
   ]
  },
  {
   "cell_type": "code",
   "execution_count": 54,
   "metadata": {},
   "outputs": [],
   "source": [
    "model = Sequential()\n",
    "model.add(Conv2D(filters=32,kernel_size=3,activation='relu',input_shape=(28,28,1)))\n",
    "model.add(Conv2D(filters=32,kernel_size=3,activation='relu'))\n",
    "model.add(MaxPooling2D(pool_size=(2,2)))\n",
    "model.add(Dropout(0.2))\n",
    "model.add(Flatten())\n",
    "model.add(Dense(128,activation='relu'))\n",
    "model.add(Dense(10,activation = 'softmax'))\n",
    "model.compile(loss='categorical_crossentropy',metrics=['accuracy'],optimizer='adam')"
   ]
  },
  {
   "cell_type": "code",
   "execution_count": 55,
   "metadata": {},
   "outputs": [
    {
     "name": "stdout",
     "output_type": "stream",
     "text": [
      "Epoch 1/10\n",
      "1875/1875 [==============================] - 64s 34ms/step - loss: 0.1287 - accuracy: 0.9612 - val_loss: 0.0536 - val_accuracy: 0.9816\n",
      "Epoch 2/10\n",
      "1875/1875 [==============================] - 64s 34ms/step - loss: 0.0445 - accuracy: 0.9858 - val_loss: 0.0351 - val_accuracy: 0.9886\n",
      "Epoch 3/10\n",
      "1875/1875 [==============================] - 65s 35ms/step - loss: 0.0288 - accuracy: 0.9910 - val_loss: 0.0306 - val_accuracy: 0.9907\n"
     ]
    },
    {
     "data": {
      "text/plain": [
       "<tensorflow.python.keras.callbacks.History at 0x7fe32b94f3d0>"
      ]
     },
     "execution_count": 55,
     "metadata": {},
     "output_type": "execute_result"
    }
   ],
   "source": [
    "callbacks = tensorflow.keras.callbacks.EarlyStopping(monitor='val_accuracy',patience=2,\n",
    "                                                    min_delta=0.01)\n",
    "model.fit(X_train,y_train,batch_size=32,epochs=10,validation_data=(X_test,y_test),\n",
    "         callbacks=[callbacks])\n"
   ]
  },
  {
   "cell_type": "code",
   "execution_count": 56,
   "metadata": {},
   "outputs": [
    {
     "name": "stdout",
     "output_type": "stream",
     "text": [
      "313/313 [==============================] - 1s 4ms/step - loss: 0.0306 - accuracy: 0.9907\n"
     ]
    },
    {
     "data": {
      "text/plain": [
       "[0.03064427711069584, 0.9907000064849854]"
      ]
     },
     "execution_count": 56,
     "metadata": {},
     "output_type": "execute_result"
    }
   ],
   "source": [
    "#Evaluating the model\n",
    "\n",
    "model.evaluate(X_test,y_test)"
   ]
  },
  {
   "cell_type": "code",
   "execution_count": null,
   "metadata": {},
   "outputs": [],
   "source": []
  }
 ],
 "metadata": {
  "kernelspec": {
   "display_name": "Python 3",
   "language": "python",
   "name": "python3"
  },
  "language_info": {
   "codemirror_mode": {
    "name": "ipython",
    "version": 3
   },
   "file_extension": ".py",
   "mimetype": "text/x-python",
   "name": "python",
   "nbconvert_exporter": "python",
   "pygments_lexer": "ipython3",
   "version": "3.8.5"
  }
 },
 "nbformat": 4,
 "nbformat_minor": 4
}
