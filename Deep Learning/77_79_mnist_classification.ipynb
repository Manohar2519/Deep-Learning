{
 "cells": [
  {
   "cell_type": "markdown",
   "metadata": {},
   "source": [
    "### MNIST data\n",
    "\n",
    "- This dataset contains 60,000 traning images and 10,000 test images and these are of 10 digits 0 to 9. Handwritten digits. People used some networks in banks to classify or understnd the cheques.\n",
    "\n",
    "- For learning purposes, MNIST dataset is also part of our tensorflow package, hence we need not read from excel"
   ]
  },
  {
   "cell_type": "code",
   "execution_count": 1,
   "metadata": {},
   "outputs": [],
   "source": [
    "import tensorflow\n",
    "import warnings\n",
    "warnings.filterwarnings(\"ignore\")"
   ]
  },
  {
   "cell_type": "code",
   "execution_count": 2,
   "metadata": {},
   "outputs": [],
   "source": [
    "#Importing data using load data method ,since we have good amount of data we will load it as \n",
    "#traning and testing"
   ]
  },
  {
   "cell_type": "code",
   "execution_count": 3,
   "metadata": {},
   "outputs": [],
   "source": [
    "# from tensorflow.keras.datasets import mnist\n",
    "# mnist.load_data"
   ]
  },
  {
   "cell_type": "code",
   "execution_count": 4,
   "metadata": {},
   "outputs": [],
   "source": [
    "(X_train,y_train),(X_test,y_test) = tensorflow.keras.datasets.mnist.load_data()"
   ]
  },
  {
   "cell_type": "code",
   "execution_count": 5,
   "metadata": {},
   "outputs": [
    {
     "name": "stdout",
     "output_type": "stream",
     "text": [
      "No of traning examples 60000\n"
     ]
    }
   ],
   "source": [
    "print(\"No of traning examples\",X_train.shape[0])"
   ]
  },
  {
   "cell_type": "code",
   "execution_count": 6,
   "metadata": {},
   "outputs": [
    {
     "name": "stdout",
     "output_type": "stream",
     "text": [
      "No of testing examples 10000\n"
     ]
    }
   ],
   "source": [
    "print(\"No of testing examples\",X_test.shape[0])"
   ]
  },
  {
   "cell_type": "code",
   "execution_count": null,
   "metadata": {},
   "outputs": [],
   "source": [
    "#sample code \n",
    "# (features,price),_ = tensorflow.keras.datasets.boston_housing.load_data(test_split=0)\n",
    "# features.shape\n",
    "# features.shape[0]"
   ]
  },
  {
   "cell_type": "code",
   "execution_count": 7,
   "metadata": {},
   "outputs": [
    {
     "name": "stdout",
     "output_type": "stream",
     "text": [
      "label:8\n"
     ]
    },
    {
     "data": {
      "text/plain": [
       "<matplotlib.image.AxesImage at 0x7f920fe2e9a0>"
      ]
     },
     "execution_count": 7,
     "metadata": {},
     "output_type": "execute_result"
    },
    {
     "data": {
      "image/png": "[encoded data removed]",
      "text/plain": [
       "<Figure size 432x288 with 1 Axes>"
      ]
     },
     "metadata": {
      "needs_background": "light"
     },
     "output_type": "display_data"
    }
   ],
   "source": [
    "import matplotlib.pyplot as plt\n",
    "print('label:{}'.format(y_train[7000]))\n",
    "plt.imshow(X_train[7000],cmap='gray')"
   ]
  },
  {
   "cell_type": "code",
   "execution_count": 8,
   "metadata": {},
   "outputs": [
    {
     "name": "stdout",
     "output_type": "stream",
     "text": [
      "training images shape (60000, 28, 28)\n",
      "testing image shape (10000, 28, 28)\n",
      "Training target (60000,)\n",
      "Testing target (10000,)\n"
     ]
    }
   ],
   "source": [
    "#printing the shape of the data\n",
    "\n",
    "print(\"training images shape\",X_train.shape)\n",
    "print(\"testing image shape\",X_test.shape)\n",
    "print(\"Training target\",y_train.shape)\n",
    "print(\"Testing target\",y_test.shape)\n"
   ]
  },
  {
   "cell_type": "code",
   "execution_count": null,
   "metadata": {},
   "outputs": [],
   "source": [
    "#we are trying to classify digits from 0 - 9 "
   ]
  },
  {
   "cell_type": "markdown",
   "metadata": {},
   "source": [
    "\n",
    "- how many neurons in my input layer - ? 784\n",
    "\n",
    "- what is the loss function -?  cross entropy\n",
    "\n",
    "- how many neurons in my last layer -?  10 \n",
    "\n",
    "\n"
   ]
  },
  {
   "cell_type": "code",
   "execution_count": 9,
   "metadata": {},
   "outputs": [
    {
     "name": "stdout",
     "output_type": "stream",
     "text": [
      "(60000,)\n",
      "Value before encoding 2\n",
      "Value before encoding 1\n",
      "(60000, 10)\n",
      "[0. 0. 1. 0. 0. 0. 0. 0. 0. 0.]\n",
      "[0. 1. 0. 0. 0. 0. 0. 0. 0. 0.]\n"
     ]
    }
   ],
   "source": [
    "from tensorflow.keras.utils import to_categorical\n",
    "print(y_train.shape)\n",
    "print(\"Value before encoding\",y_train[5])\n",
    "print(\"Value before encoding\",y_test[5])\n",
    "\n",
    "y_train = to_categorical(y_train,num_classes=10)\n",
    "y_test = to_categorical(y_test,num_classes=10)\n",
    "\n",
    "print(y_train.shape)\n",
    "print(y_train[5])\n",
    "print(y_test[5])"
   ]
  },
  {
   "cell_type": "code",
   "execution_count": 10,
   "metadata": {},
   "outputs": [],
   "source": [
    "#Lets create the model\n",
    "\n",
    "from tensorflow.keras.models import Sequential\n",
    "from tensorflow.keras.layers import Dense ,Reshape\n"
   ]
  },
  {
   "cell_type": "code",
   "execution_count": 11,
   "metadata": {},
   "outputs": [],
   "source": [
    "model = Sequential()\n",
    "model.add(Reshape((784,), input_shape=(28,28,)))\n",
    "\n",
    "#adding my first hidden layer\n",
    "model.add(Dense(200,activation='relu'))\n",
    "#second hidden layer\n",
    "model.add(Dense(100,activation='relu'))\n",
    "#third hidden layer\n",
    "model.add(Dense(60,activation='relu'))\n",
    "#fourth hidden layer\n",
    "model.add(Dense(30,activation='relu'))\n",
    "#output layer\n",
    "model.add(Dense(10,activation='softmax'))"
   ]
  },
  {
   "cell_type": "code",
   "execution_count": 15,
   "metadata": {},
   "outputs": [
    {
     "name": "stdout",
     "output_type": "stream",
     "text": [
      "Model: \"sequential\"\n",
      "_________________________________________________________________\n",
      "Layer (type)                 Output Shape              Param #   \n",
      "=================================================================\n",
      "reshape (Reshape)            (None, 784)               0         \n",
      "_________________________________________________________________\n",
      "dense (Dense)                (None, 200)               157000    \n",
      "_________________________________________________________________\n",
      "dense_1 (Dense)              (None, 100)               20100     \n",
      "_________________________________________________________________\n",
      "dense_2 (Dense)              (None, 60)                6060      \n",
      "_________________________________________________________________\n",
      "dense_3 (Dense)              (None, 30)                1830      \n",
      "_________________________________________________________________\n",
      "dense_4 (Dense)              (None, 10)                310       \n",
      "=================================================================\n",
      "Total params: 185,300\n",
      "Trainable params: 185,300\n",
      "Non-trainable params: 0\n",
      "_________________________________________________________________\n",
      "None\n"
     ]
    }
   ],
   "source": [
    "print(model.summary())"
   ]
  },
  {
   "cell_type": "code",
   "execution_count": 12,
   "metadata": {},
   "outputs": [],
   "source": [
    "model.compile(optimizer='adam',loss='categorical_crossentropy',metrics=['accuracy'])"
   ]
  },
  {
   "cell_type": "code",
   "execution_count": 14,
   "metadata": {},
   "outputs": [
    {
     "name": "stdout",
     "output_type": "stream",
     "text": [
      "313/313 [==============================] - 0s 659us/step - loss: 67.1087 - accuracy: 0.0919\n"
     ]
    },
    {
     "data": {
      "text/plain": [
       "[67.10870361328125, 0.09189999848604202]"
      ]
     },
     "execution_count": 14,
     "metadata": {},
     "output_type": "execute_result"
    }
   ],
   "source": [
    "#Model is just compiled, model has random weights initialized by tensorflow\n",
    "#lets see how much accuracy model will get without training\n",
    "model.evaluate(X_test,y_test)"
   ]
  },
  {
   "cell_type": "code",
   "execution_count": null,
   "metadata": {},
   "outputs": [],
   "source": []
  },
  {
   "cell_type": "code",
   "execution_count": 16,
   "metadata": {},
   "outputs": [
    {
     "name": "stdout",
     "output_type": "stream",
     "text": [
      "Epoch 1/30\n",
      "1875/1875 [==============================] - 2s 1ms/step - loss: 0.6353 - accuracy: 0.8726 - val_loss: 0.2629 - val_accuracy: 0.9281\n",
      "Epoch 2/30\n",
      "1875/1875 [==============================] - 2s 1ms/step - loss: 0.2000 - accuracy: 0.9428 - val_loss: 0.1739 - val_accuracy: 0.9527\n",
      "Epoch 3/30\n",
      "1875/1875 [==============================] - 2s 1ms/step - loss: 0.1494 - accuracy: 0.9581 - val_loss: 0.1579 - val_accuracy: 0.9570\n",
      "Epoch 4/30\n",
      "1875/1875 [==============================] - 2s 1ms/step - loss: 0.1199 - accuracy: 0.9659 - val_loss: 0.1265 - val_accuracy: 0.9663\n",
      "Epoch 5/30\n",
      "1875/1875 [==============================] - 2s 1ms/step - loss: 0.1039 - accuracy: 0.9703 - val_loss: 0.1465 - val_accuracy: 0.9598\n",
      "Epoch 6/30\n",
      "1875/1875 [==============================] - 2s 1ms/step - loss: 0.0911 - accuracy: 0.9739 - val_loss: 0.1227 - val_accuracy: 0.9683\n",
      "Epoch 7/30\n",
      "1875/1875 [==============================] - 2s 1ms/step - loss: 0.0778 - accuracy: 0.9772 - val_loss: 0.1036 - val_accuracy: 0.9731\n",
      "Epoch 8/30\n",
      "1875/1875 [==============================] - 2s 1ms/step - loss: 0.0668 - accuracy: 0.9807 - val_loss: 0.1081 - val_accuracy: 0.9752\n",
      "Epoch 9/30\n",
      "1875/1875 [==============================] - 2s 1ms/step - loss: 0.0653 - accuracy: 0.9816 - val_loss: 0.0989 - val_accuracy: 0.9736\n",
      "Epoch 10/30\n",
      "1875/1875 [==============================] - 2s 1ms/step - loss: 0.0560 - accuracy: 0.9840 - val_loss: 0.1069 - val_accuracy: 0.9756\n",
      "Epoch 11/30\n",
      "1875/1875 [==============================] - 2s 1ms/step - loss: 0.0511 - accuracy: 0.9862 - val_loss: 0.1270 - val_accuracy: 0.9719\n",
      "Epoch 12/30\n",
      "1875/1875 [==============================] - 2s 1ms/step - loss: 0.0458 - accuracy: 0.9872 - val_loss: 0.1251 - val_accuracy: 0.9724\n",
      "Epoch 13/30\n",
      "1875/1875 [==============================] - 2s 1ms/step - loss: 0.0474 - accuracy: 0.9869 - val_loss: 0.1305 - val_accuracy: 0.9730\n",
      "Epoch 14/30\n",
      "1875/1875 [==============================] - 2s 1ms/step - loss: 0.0397 - accuracy: 0.9897 - val_loss: 0.1487 - val_accuracy: 0.9721\n",
      "Epoch 15/30\n",
      "1875/1875 [==============================] - 2s 1ms/step - loss: 0.0379 - accuracy: 0.9897 - val_loss: 0.1309 - val_accuracy: 0.9754\n",
      "Epoch 16/30\n",
      "1875/1875 [==============================] - 3s 2ms/step - loss: 0.0358 - accuracy: 0.9904 - val_loss: 0.1399 - val_accuracy: 0.9721\n",
      "Epoch 17/30\n",
      "1875/1875 [==============================] - 3s 2ms/step - loss: 0.0344 - accuracy: 0.9908 - val_loss: 0.1970 - val_accuracy: 0.9755\n",
      "Epoch 18/30\n",
      "1875/1875 [==============================] - 3s 2ms/step - loss: 0.0302 - accuracy: 0.9917 - val_loss: 0.1665 - val_accuracy: 0.9726\n",
      "Epoch 19/30\n",
      "1875/1875 [==============================] - 3s 2ms/step - loss: 0.0334 - accuracy: 0.9914 - val_loss: 0.1415 - val_accuracy: 0.9787\n",
      "Epoch 20/30\n",
      "1875/1875 [==============================] - 3s 2ms/step - loss: 0.0346 - accuracy: 0.9915 - val_loss: 0.1290 - val_accuracy: 0.9795\n",
      "Epoch 21/30\n",
      "1875/1875 [==============================] - 3s 2ms/step - loss: 0.0282 - accuracy: 0.9931 - val_loss: 0.2519 - val_accuracy: 0.9642\n",
      "Epoch 22/30\n",
      "1875/1875 [==============================] - 3s 2ms/step - loss: 0.0294 - accuracy: 0.9929 - val_loss: 0.1293 - val_accuracy: 0.9782\n",
      "Epoch 23/30\n",
      "1875/1875 [==============================] - 3s 2ms/step - loss: 0.0313 - accuracy: 0.9930 - val_loss: 0.1170 - val_accuracy: 0.9783\n",
      "Epoch 24/30\n",
      "1875/1875 [==============================] - 3s 1ms/step - loss: 0.0298 - accuracy: 0.9932 - val_loss: 0.1301 - val_accuracy: 0.9796\n",
      "Epoch 25/30\n",
      "1875/1875 [==============================] - 3s 1ms/step - loss: 0.0264 - accuracy: 0.9940 - val_loss: 0.1872 - val_accuracy: 0.9778\n",
      "Epoch 26/30\n",
      "1875/1875 [==============================] - 3s 1ms/step - loss: 0.0273 - accuracy: 0.9938 - val_loss: 0.1429 - val_accuracy: 0.9739\n",
      "Epoch 27/30\n",
      "1875/1875 [==============================] - 3s 1ms/step - loss: 0.0316 - accuracy: 0.9929 - val_loss: 0.1613 - val_accuracy: 0.9762\n",
      "Epoch 28/30\n",
      "1875/1875 [==============================] - 3s 1ms/step - loss: 0.0231 - accuracy: 0.9951 - val_loss: 0.1561 - val_accuracy: 0.9792\n",
      "Epoch 29/30\n",
      "1875/1875 [==============================] - 3s 1ms/step - loss: 0.0265 - accuracy: 0.9939 - val_loss: 0.1767 - val_accuracy: 0.9773\n",
      "Epoch 30/30\n",
      "1875/1875 [==============================] - 3s 1ms/step - loss: 0.0215 - accuracy: 0.9950 - val_loss: 0.2905 - val_accuracy: 0.9705\n"
     ]
    },
    {
     "data": {
      "text/plain": [
       "<tensorflow.python.keras.callbacks.History at 0x7f92128bf7f0>"
      ]
     },
     "execution_count": 16,
     "metadata": {},
     "output_type": "execute_result"
    }
   ],
   "source": [
    "model.fit(X_train,y_train,validation_data=(X_test,y_test) , epochs=30,batch_size=32)"
   ]
  },
  {
   "cell_type": "code",
   "execution_count": null,
   "metadata": {},
   "outputs": [],
   "source": [
    "# Understand Dropout\n",
    "# Understand Regularization\n",
    "# Implement Early stopping\n",
    "# Use the hyper parameters called learning rate and momentum\n"
   ]
  }
 ],
 "metadata": {
  "kernelspec": {
   "display_name": "Python 3",
   "language": "python",
   "name": "python3"
  },
  "language_info": {
   "codemirror_mode": {
    "name": "ipython",
    "version": 3
   },
   "file_extension": ".py",
   "mimetype": "text/x-python",
   "name": "python",
   "nbconvert_exporter": "python",
   "pygments_lexer": "ipython3",
   "version": "3.8.3"
  }
 },
 "nbformat": 4,
 "nbformat_minor": 4
}
